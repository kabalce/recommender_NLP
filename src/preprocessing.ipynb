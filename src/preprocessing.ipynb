{
 "cells": [
  {
   "cell_type": "code",
   "execution_count": 13,
   "id": "a6ffc111",
   "metadata": {
    "ExecuteTime": {
     "end_time": "2022-01-02T19:41:45.436674Z",
     "start_time": "2022-01-02T19:41:45.388922Z"
    }
   },
   "outputs": [],
   "source": [
    "import pandas as pd\n",
    "import numpy as np\n",
    "import contractions\n",
    "import textstat\n",
    "from sklearn.model_selection import train_test_split\n",
    "import re\n",
    "\n",
    "category = \"Jewelry\""
   ]
  },
  {
   "cell_type": "markdown",
   "id": "8a8f3fba",
   "metadata": {},
   "source": [
    "# Prepare data\n",
    "\n",
    "Link to the data set:\n",
    "\n",
    "http://snap.stanford.edu/data/web-Amazon-links.html?fbclid=IwAR0uAj7gUjbwrIyN2UpPuZZnytV-P-iV8kcpOJtfmgboeLkDOdwkqqb_G58\n",
    "\n",
    "## Read the data"
   ]
  },
  {
   "cell_type": "code",
   "execution_count": 33,
   "id": "bffd6130",
   "metadata": {
    "ExecuteTime": {
     "end_time": "2022-01-02T19:37:38.251364Z",
     "start_time": "2022-01-02T19:37:38.245936Z"
    }
   },
   "outputs": [],
   "source": [
    "def load_reviews_to_df(path) -> pd.DataFrame:\n",
    "    raw_data = open(path).readlines()\n",
    "    \n",
    "    reviews_array = []\n",
    "    dictionary = {}\n",
    "\n",
    "    for review in raw_data:\n",
    "        this_line = review.split(\":\")\n",
    "        if len(this_line) > 1:\n",
    "            dictionary[this_line[0]] = this_line[1].strip()\n",
    "        else:\n",
    "            reviews_array.append(dictionary)\n",
    "            dictionary = {}\n",
    "\n",
    "    colNames = ['productId', 'title', 'price', 'userId', \n",
    "                'profileName', 'helpfulness', 'score', \n",
    "                'time', 'summary', 'text']\n",
    "    \n",
    "    reviews = pd.DataFrame(reviews_array)\n",
    "    reviews.columns = colNames\n",
    "    reviews[['score']] = reviews[['score']].astype(float)\n",
    "    reviews['time'] = pd.to_datetime(reviews['time'], unit='s')\n",
    "    \n",
    "    return reviews"
   ]
  },
  {
   "cell_type": "code",
   "execution_count": 34,
   "id": "2f855322",
   "metadata": {
    "ExecuteTime": {
     "end_time": "2022-01-02T19:37:39.137879Z",
     "start_time": "2022-01-02T19:37:38.253454Z"
    }
   },
   "outputs": [
    {
     "data": {
      "text/html": [
       "<div>\n",
       "<style scoped>\n",
       "    .dataframe tbody tr th:only-of-type {\n",
       "        vertical-align: middle;\n",
       "    }\n",
       "\n",
       "    .dataframe tbody tr th {\n",
       "        vertical-align: top;\n",
       "    }\n",
       "\n",
       "    .dataframe thead th {\n",
       "        text-align: right;\n",
       "    }\n",
       "</style>\n",
       "<table border=\"1\" class=\"dataframe\">\n",
       "  <thead>\n",
       "    <tr style=\"text-align: right;\">\n",
       "      <th></th>\n",
       "      <th>productId</th>\n",
       "      <th>title</th>\n",
       "      <th>price</th>\n",
       "      <th>userId</th>\n",
       "      <th>profileName</th>\n",
       "      <th>helpfulness</th>\n",
       "      <th>score</th>\n",
       "      <th>time</th>\n",
       "      <th>summary</th>\n",
       "      <th>text</th>\n",
       "    </tr>\n",
       "  </thead>\n",
       "  <tbody>\n",
       "    <tr>\n",
       "      <th>0</th>\n",
       "      <td>B000FTPOMK</td>\n",
       "      <td>14k Yellow Gold Butterfly Pendant, 16\"</td>\n",
       "      <td>unknown</td>\n",
       "      <td>A3T4KKUM1JATUX</td>\n",
       "      <td>Disappointed Sony customer</td>\n",
       "      <td>1/1</td>\n",
       "      <td>4.0</td>\n",
       "      <td>2007-05-03</td>\n",
       "      <td>pretty necklace</td>\n",
       "      <td>It is a nice made necklace, and the butterfly ...</td>\n",
       "    </tr>\n",
       "    <tr>\n",
       "      <th>1</th>\n",
       "      <td>B000FTPOMK</td>\n",
       "      <td>14k Yellow Gold Butterfly Pendant, 16\"</td>\n",
       "      <td>unknown</td>\n",
       "      <td>A33LVMKCG9IG15</td>\n",
       "      <td>A. Thorpe \"Amazon lover\"</td>\n",
       "      <td>1/1</td>\n",
       "      <td>4.0</td>\n",
       "      <td>2007-04-08</td>\n",
       "      <td>pretty necklace</td>\n",
       "      <td>I bought this necklace on a whim; I love butte...</td>\n",
       "    </tr>\n",
       "    <tr>\n",
       "      <th>2</th>\n",
       "      <td>B000FTPOMK</td>\n",
       "      <td>14k Yellow Gold Butterfly Pendant, 16\"</td>\n",
       "      <td>unknown</td>\n",
       "      <td>A1PNSOEZQ4E9UT</td>\n",
       "      <td>rabbit \"amazon rocks\"</td>\n",
       "      <td>0/0</td>\n",
       "      <td>5.0</td>\n",
       "      <td>2007-07-10</td>\n",
       "      <td>Nice and weighty</td>\n",
       "      <td>Bought via gold box ,it is much better than I ...</td>\n",
       "    </tr>\n",
       "    <tr>\n",
       "      <th>3</th>\n",
       "      <td>B000FTPOMK</td>\n",
       "      <td>14k Yellow Gold Butterfly Pendant, 16\"</td>\n",
       "      <td>unknown</td>\n",
       "      <td>A3F12GSAOU0WRT</td>\n",
       "      <td>Jennifer S. Barbier</td>\n",
       "      <td>0/0</td>\n",
       "      <td>5.0</td>\n",
       "      <td>2007-06-08</td>\n",
       "      <td>Great necklace for kids or adults</td>\n",
       "      <td>I love this necklace. It is great for everyday...</td>\n",
       "    </tr>\n",
       "    <tr>\n",
       "      <th>4</th>\n",
       "      <td>B000FTPOMK</td>\n",
       "      <td>14k Yellow Gold Butterfly Pendant, 16\"</td>\n",
       "      <td>unknown</td>\n",
       "      <td>A2H69HCLAE6GME</td>\n",
       "      <td>Julia</td>\n",
       "      <td>0/0</td>\n",
       "      <td>5.0</td>\n",
       "      <td>2007-05-16</td>\n",
       "      <td>Absolutely satisfied with it</td>\n",
       "      <td>Love this butterfly pendant. Right size, high ...</td>\n",
       "    </tr>\n",
       "  </tbody>\n",
       "</table>\n",
       "</div>"
      ],
      "text/plain": [
       "    productId                                   title    price  \\\n",
       "0  B000FTPOMK  14k Yellow Gold Butterfly Pendant, 16\"  unknown   \n",
       "1  B000FTPOMK  14k Yellow Gold Butterfly Pendant, 16\"  unknown   \n",
       "2  B000FTPOMK  14k Yellow Gold Butterfly Pendant, 16\"  unknown   \n",
       "3  B000FTPOMK  14k Yellow Gold Butterfly Pendant, 16\"  unknown   \n",
       "4  B000FTPOMK  14k Yellow Gold Butterfly Pendant, 16\"  unknown   \n",
       "\n",
       "           userId                 profileName helpfulness  score       time  \\\n",
       "0  A3T4KKUM1JATUX  Disappointed Sony customer         1/1    4.0 2007-05-03   \n",
       "1  A33LVMKCG9IG15    A. Thorpe \"Amazon lover\"         1/1    4.0 2007-04-08   \n",
       "2  A1PNSOEZQ4E9UT       rabbit \"amazon rocks\"         0/0    5.0 2007-07-10   \n",
       "3  A3F12GSAOU0WRT         Jennifer S. Barbier         0/0    5.0 2007-06-08   \n",
       "4  A2H69HCLAE6GME                       Julia         0/0    5.0 2007-05-16   \n",
       "\n",
       "                             summary  \\\n",
       "0                    pretty necklace   \n",
       "1                    pretty necklace   \n",
       "2                   Nice and weighty   \n",
       "3  Great necklace for kids or adults   \n",
       "4       Absolutely satisfied with it   \n",
       "\n",
       "                                                text  \n",
       "0  It is a nice made necklace, and the butterfly ...  \n",
       "1  I bought this necklace on a whim; I love butte...  \n",
       "2  Bought via gold box ,it is much better than I ...  \n",
       "3  I love this necklace. It is great for everyday...  \n",
       "4  Love this butterfly pendant. Right size, high ...  "
      ]
     },
     "execution_count": 34,
     "metadata": {},
     "output_type": "execute_result"
    }
   ],
   "source": [
    "path = f'{category}.txt'\n",
    "reviews_df = load_reviews_to_df(path)\n",
    "reviews_df.head()"
   ]
  },
  {
   "cell_type": "markdown",
   "id": "e44b121c",
   "metadata": {},
   "source": [
    "## Clean up the data\n",
    "\n",
    "### Extract numbers for helpfulness"
   ]
  },
  {
   "cell_type": "code",
   "execution_count": 4,
   "id": "f8133145",
   "metadata": {
    "ExecuteTime": {
     "end_time": "2022-01-02T19:37:39.259422Z",
     "start_time": "2022-01-02T19:37:39.140266Z"
    }
   },
   "outputs": [],
   "source": [
    "reviews_df[\"helpfulness_num\"] = reviews_df[\"helpfulness\"].apply(lambda x: int(x.split(\"/\")[0]))\n",
    "reviews_df[\"helpfulness_den\"] = reviews_df[\"helpfulness\"].apply(lambda x: int(x.split(\"/\")[1]))"
   ]
  },
  {
   "cell_type": "markdown",
   "id": "d682eceb",
   "metadata": {},
   "source": [
    "### Clean up the comments\n",
    "\n",
    "Used tutorial:\n",
    "\n",
    "https://towardsdatascience.com/text-cleaning-methods-for-natural-language-processing-f2fc1796e8c7\n",
    "\n",
    "**TBD: do the same transformations with the summary!**\n",
    "\n",
    "1. Read the slang\n",
    "\n",
    "Example:"
   ]
  },
  {
   "cell_type": "code",
   "execution_count": 36,
   "id": "4c680545",
   "metadata": {},
   "outputs": [
    {
     "data": {
      "text/plain": [
       "\"I bought this necklace on a whim; I love butterflies and it looked so dainty and sweet. It was actually a little more weighty than I expected, although it's not a solid piece. The chain is shiny and nicer than I expected.\""
      ]
     },
     "execution_count": 36,
     "metadata": {},
     "output_type": "execute_result"
    }
   ],
   "source": [
    "reviews_df[\"text\"][1]"
   ]
  },
  {
   "cell_type": "code",
   "execution_count": 37,
   "id": "e34808e1",
   "metadata": {
    "ExecuteTime": {
     "end_time": "2022-01-02T19:37:39.264937Z",
     "start_time": "2022-01-02T19:37:39.260783Z"
    }
   },
   "outputs": [
    {
     "data": {
      "text/plain": [
       "\"I bought this necklace on a whim; I love butterflies and it looked so dainty and sweet. It was actually a little more weighty than I expected, although it's not a solid piece. The chain is shiny and nicer than I expected.\""
      ]
     },
     "execution_count": 37,
     "metadata": {},
     "output_type": "execute_result"
    }
   ],
   "source": [
    "text_example = \"I bought this necklace on a whim; I love butterflies and it looked so dainty and sweet. It was actually a little more weighty than I expected, although it's not a solid piece. The chain is shiny and nicer than I expected.\"\n",
    "text_example"
   ]
  },
  {
   "cell_type": "code",
   "execution_count": 40,
   "id": "4ab5d4fd",
   "metadata": {
    "ExecuteTime": {
     "end_time": "2022-01-02T19:37:39.275300Z",
     "start_time": "2022-01-02T19:37:39.266893Z"
    }
   },
   "outputs": [
    {
     "data": {
      "text/plain": [
       "'I bought this necklace on a whim; I love butterflies and it looked so dainty and sweet. It was actually a little more weighty than I expected, although it is not a solid piece. The chain is shiny and nicer than I expected.'"
      ]
     },
     "execution_count": 40,
     "metadata": {},
     "output_type": "execute_result"
    }
   ],
   "source": [
    "text_example = contractions.fix(text_example, slang=True)\n",
    "text_example"
   ]
  },
  {
   "cell_type": "code",
   "execution_count": 7,
   "id": "3a00c72e",
   "metadata": {
    "ExecuteTime": {
     "end_time": "2022-01-02T19:37:40.095002Z",
     "start_time": "2022-01-02T19:37:39.277568Z"
    }
   },
   "outputs": [],
   "source": [
    "reviews_df[\"text_fixed\"] = reviews_df[\"text\"].apply(contractions.fix, slang=True)"
   ]
  },
  {
   "cell_type": "markdown",
   "id": "260c1ed4",
   "metadata": {},
   "source": [
    "2. Normalization\n",
    "    - remove punctuation\n",
    "    - lower all letters\n",
    "    - remove numbers\n",
    "    \n",
    "3. Remove stop words (noise)\n",
    "\n",
    "4. Stemming and/or Lemmatisation\n",
    "\n",
    "Ciekawostka (? do przeczytania) https://www.researchgate.net/publication/220959627_Training_Data_Cleaning_for_Text_Classification"
   ]
  },
  {
   "cell_type": "code",
   "execution_count": 41,
   "id": "9db780f7",
   "metadata": {},
   "outputs": [
    {
     "data": {
      "text/plain": [
       "'i bought this necklace on a whim i love butterflies and it looked so dainty and sweet it was actually a little more weighty than i expected although it is not a solid piece the chain is shiny and nicer than i expected'"
      ]
     },
     "execution_count": 41,
     "metadata": {},
     "output_type": "execute_result"
    }
   ],
   "source": [
    "# normalization\n",
    "\n",
    "text_example = re.sub(r\"\\d+\", \"\", re.sub(r\"(@[A-Za-z0-9]+)|([^0-9A-Za-z \\t])|(\\w+:\\/\\/\\S+)|^rt|http.+?\", \"\", text_example.lower()))\n",
    "text_example"
   ]
  },
  {
   "cell_type": "code",
   "execution_count": 17,
   "id": "ec102961",
   "metadata": {},
   "outputs": [
    {
     "name": "stderr",
     "output_type": "stream",
     "text": [
      "[nltk_data] Downloading package stopwords to\n",
      "[nltk_data]     /home/kabalce/nltk_data...\n",
      "[nltk_data]   Unzipping corpora/stopwords.zip.\n"
     ]
    }
   ],
   "source": [
    "# import nltk.corpus\n",
    "# nltk.download('stopwords')\n",
    "# from nltk.corpus import stopwords\n",
    "# stop = stopwords.words('english')\n",
    "# stop\n",
    "\n",
    "# removing stop words is not a good idea for sentimental anylysis"
   ]
  },
  {
   "cell_type": "code",
   "execution_count": 20,
   "id": "de1bb4ce",
   "metadata": {},
   "outputs": [],
   "source": [
    "from nltk.stem import PorterStemmer \n",
    "from nltk.tokenize import word_tokenize"
   ]
  },
  {
   "cell_type": "code",
   "execution_count": 25,
   "id": "f6084376",
   "metadata": {},
   "outputs": [
    {
     "name": "stderr",
     "output_type": "stream",
     "text": [
      "[nltk_data] Downloading package punkt to /home/kabalce/nltk_data...\n",
      "[nltk_data]   Unzipping tokenizers/punkt.zip.\n"
     ]
    },
    {
     "data": {
      "text/plain": [
       "True"
      ]
     },
     "execution_count": 25,
     "metadata": {},
     "output_type": "execute_result"
    }
   ],
   "source": [
    "nltk.download('punkt')"
   ]
  },
  {
   "cell_type": "code",
   "execution_count": 26,
   "id": "94995e4a",
   "metadata": {},
   "outputs": [
    {
     "data": {
      "text/plain": [
       "['i', 'think', 'it', 'is', 'a', 'lovely', 'ring']"
      ]
     },
     "execution_count": 26,
     "metadata": {},
     "output_type": "execute_result"
    }
   ],
   "source": [
    "ps = PorterStemmer()\n"
   ]
  },
  {
   "cell_type": "code",
   "execution_count": 29,
   "id": "abdf710e",
   "metadata": {},
   "outputs": [
    {
     "name": "stderr",
     "output_type": "stream",
     "text": [
      "[nltk_data] Downloading package omw-1.4 to /home/kabalce/nltk_data...\n",
      "[nltk_data]   Unzipping corpora/omw-1.4.zip.\n"
     ]
    }
   ],
   "source": [
    "# nltk.download('wordnet')\n",
    "nltk.download('omw-1.4')\n",
    "from nltk.stem import WordNetLemmatizer"
   ]
  },
  {
   "cell_type": "code",
   "execution_count": 42,
   "id": "5d056f88",
   "metadata": {},
   "outputs": [
    {
     "data": {
      "text/plain": [
       "'i bought this necklace on a whim i love butterfly and it looked so dainty and sweet it wa actually a little more weighty than i expected although it is not a solid piece the chain is shiny and nicer than i expected'"
      ]
     },
     "execution_count": 42,
     "metadata": {},
     "output_type": "execute_result"
    }
   ],
   "source": [
    "text = word_tokenize(text_example)\n",
    "\" \".join([WordNetLemmatizer().lemmatize(i) for i in text])"
   ]
  },
  {
   "cell_type": "markdown",
   "id": "5dfd9f59",
   "metadata": {},
   "source": [
    "##  Extract text statistics"
   ]
  },
  {
   "cell_type": "code",
   "execution_count": 8,
   "id": "64e85f97",
   "metadata": {
    "ExecuteTime": {
     "end_time": "2022-01-02T19:38:51.819573Z",
     "start_time": "2022-01-02T19:37:40.096213Z"
    }
   },
   "outputs": [],
   "source": [
    "reviews_df[\"sign_number\"] = reviews_df[\"text_fixed\"].apply(len)\n",
    "reviews_df[\"word_number\"] = reviews_df[\"text_fixed\"].apply(lambda x: len(x.split(\" \")))\n",
    "reviews_df[\"unique_word_number\"] = reviews_df[\"text_fixed\"].apply(lambda x: len(set(x.split(\" \"))))\n",
    "reviews_df[\"flesch_reading_ease\"] = reviews_df[\"text_fixed\"].apply(textstat.flesch_reading_ease)\n",
    "reviews_df[\"flesch_kincaid_grade\"] = reviews_df[\"text_fixed\"].apply(textstat.flesch_kincaid_grade)\n",
    "reviews_df[\"smog_index\"] = reviews_df[\"text_fixed\"].apply(textstat.smog_index)\n",
    "reviews_df[\"coleman_liau_index\"] = reviews_df[\"text_fixed\"].apply(textstat.coleman_liau_index)\n",
    "reviews_df[\"automated_readability_index\"] = reviews_df[\"text_fixed\"].apply(textstat.automated_readability_index)\n",
    "reviews_df[\"dale_chall_readability_score\"] = reviews_df[\"text_fixed\"].apply(textstat.dale_chall_readability_score)\n",
    "reviews_df[\"difficult_words\"] = reviews_df[\"text_fixed\"].apply(textstat.difficult_words)\n",
    "reviews_df[\"linsear_write_formula\"] = reviews_df[\"text_fixed\"].apply(textstat.linsear_write_formula)\n",
    "reviews_df[\"gunning_fog\"] = reviews_df[\"text_fixed\"].apply(textstat.gunning_fog)\n",
    "reviews_df[\"text_standard\"] = reviews_df[\"text_fixed\"].apply(textstat.text_standard)\n",
    "reviews_df[\"fernandez_huerta\"] = reviews_df[\"text_fixed\"].apply(textstat.fernandez_huerta)\n",
    "reviews_df[\"szigriszt_pazos\"] = reviews_df[\"text_fixed\"].apply(textstat.szigriszt_pazos)\n",
    "reviews_df[\"gutierrez_polini\"] = reviews_df[\"text_fixed\"].apply(textstat.gutierrez_polini)\n",
    "reviews_df[\"crawford\"] = reviews_df[\"text_fixed\"].apply(textstat.crawford)\n",
    "reviews_df[\"gulpease_index\"] = reviews_df[\"text_fixed\"].apply(textstat.gulpease_index)\n",
    "reviews_df[\"osman\"] = reviews_df[\"text_fixed\"].apply(textstat.osman)"
   ]
  },
  {
   "cell_type": "markdown",
   "id": "ef422f89",
   "metadata": {},
   "source": [
    "### Extract time features"
   ]
  },
  {
   "cell_type": "code",
   "execution_count": 9,
   "id": "6ad45e0a",
   "metadata": {
    "ExecuteTime": {
     "end_time": "2022-01-02T19:38:51.835040Z",
     "start_time": "2022-01-02T19:38:51.821053Z"
    }
   },
   "outputs": [],
   "source": [
    "reviews_df[\"time_month\"] = pd.DatetimeIndex(reviews_df[\"time\"]).month\n",
    "reviews_df[\"time_weekday\"] = pd.DatetimeIndex(reviews_df[\"time\"]).weekday"
   ]
  },
  {
   "cell_type": "code",
   "execution_count": 10,
   "id": "d4fb2cf0",
   "metadata": {
    "ExecuteTime": {
     "end_time": "2022-01-02T19:38:51.867061Z",
     "start_time": "2022-01-02T19:38:51.837303Z"
    }
   },
   "outputs": [
    {
     "data": {
      "text/html": [
       "<div>\n",
       "<style scoped>\n",
       "    .dataframe tbody tr th:only-of-type {\n",
       "        vertical-align: middle;\n",
       "    }\n",
       "\n",
       "    .dataframe tbody tr th {\n",
       "        vertical-align: top;\n",
       "    }\n",
       "\n",
       "    .dataframe thead th {\n",
       "        text-align: right;\n",
       "    }\n",
       "</style>\n",
       "<table border=\"1\" class=\"dataframe\">\n",
       "  <thead>\n",
       "    <tr style=\"text-align: right;\">\n",
       "      <th></th>\n",
       "      <th>productId</th>\n",
       "      <th>title</th>\n",
       "      <th>price</th>\n",
       "      <th>userId</th>\n",
       "      <th>profileName</th>\n",
       "      <th>helpfulness</th>\n",
       "      <th>score</th>\n",
       "      <th>time</th>\n",
       "      <th>summary</th>\n",
       "      <th>text</th>\n",
       "      <th>...</th>\n",
       "      <th>gunning_fog</th>\n",
       "      <th>text_standard</th>\n",
       "      <th>fernandez_huerta</th>\n",
       "      <th>szigriszt_pazos</th>\n",
       "      <th>gutierrez_polini</th>\n",
       "      <th>crawford</th>\n",
       "      <th>gulpease_index</th>\n",
       "      <th>osman</th>\n",
       "      <th>time_month</th>\n",
       "      <th>time_weekday</th>\n",
       "    </tr>\n",
       "  </thead>\n",
       "  <tbody>\n",
       "    <tr>\n",
       "      <th>0</th>\n",
       "      <td>B000FTPOMK</td>\n",
       "      <td>14k Yellow Gold Butterfly Pendant, 16\"</td>\n",
       "      <td>unknown</td>\n",
       "      <td>A3T4KKUM1JATUX</td>\n",
       "      <td>Disappointed Sony customer</td>\n",
       "      <td>1/1</td>\n",
       "      <td>4.0</td>\n",
       "      <td>2007-05-03</td>\n",
       "      <td>pretty necklace</td>\n",
       "      <td>It is a nice made necklace, and the butterfly ...</td>\n",
       "      <td>...</td>\n",
       "      <td>3.00</td>\n",
       "      <td>3rd and 4th grade</td>\n",
       "      <td>115.2</td>\n",
       "      <td>112.12</td>\n",
       "      <td>51.19</td>\n",
       "      <td>0.7</td>\n",
       "      <td>84.333333</td>\n",
       "      <td>86.78</td>\n",
       "      <td>5</td>\n",
       "      <td>3</td>\n",
       "    </tr>\n",
       "    <tr>\n",
       "      <th>1</th>\n",
       "      <td>B000FTPOMK</td>\n",
       "      <td>14k Yellow Gold Butterfly Pendant, 16\"</td>\n",
       "      <td>unknown</td>\n",
       "      <td>A33LVMKCG9IG15</td>\n",
       "      <td>A. Thorpe \"Amazon lover\"</td>\n",
       "      <td>1/1</td>\n",
       "      <td>4.0</td>\n",
       "      <td>2007-04-08</td>\n",
       "      <td>pretty necklace</td>\n",
       "      <td>I bought this necklace on a whim; I love butte...</td>\n",
       "      <td>...</td>\n",
       "      <td>8.51</td>\n",
       "      <td>5th and 6th grade</td>\n",
       "      <td>114.3</td>\n",
       "      <td>109.92</td>\n",
       "      <td>50.71</td>\n",
       "      <td>1.7</td>\n",
       "      <td>68.069767</td>\n",
       "      <td>82.21</td>\n",
       "      <td>4</td>\n",
       "      <td>6</td>\n",
       "    </tr>\n",
       "    <tr>\n",
       "      <th>2</th>\n",
       "      <td>B000FTPOMK</td>\n",
       "      <td>14k Yellow Gold Butterfly Pendant, 16\"</td>\n",
       "      <td>unknown</td>\n",
       "      <td>A1PNSOEZQ4E9UT</td>\n",
       "      <td>rabbit \"amazon rocks\"</td>\n",
       "      <td>0/0</td>\n",
       "      <td>5.0</td>\n",
       "      <td>2007-07-10</td>\n",
       "      <td>Nice and weighty</td>\n",
       "      <td>Bought via gold box ,it is much better than I ...</td>\n",
       "      <td>...</td>\n",
       "      <td>6.00</td>\n",
       "      <td>5th and 6th grade</td>\n",
       "      <td>119.6</td>\n",
       "      <td>117.08</td>\n",
       "      <td>50.50</td>\n",
       "      <td>1.1</td>\n",
       "      <td>66.333333</td>\n",
       "      <td>85.62</td>\n",
       "      <td>7</td>\n",
       "      <td>1</td>\n",
       "    </tr>\n",
       "    <tr>\n",
       "      <th>3</th>\n",
       "      <td>B000FTPOMK</td>\n",
       "      <td>14k Yellow Gold Butterfly Pendant, 16\"</td>\n",
       "      <td>unknown</td>\n",
       "      <td>A3F12GSAOU0WRT</td>\n",
       "      <td>Jennifer S. Barbier</td>\n",
       "      <td>0/0</td>\n",
       "      <td>5.0</td>\n",
       "      <td>2007-06-08</td>\n",
       "      <td>Great necklace for kids or adults</td>\n",
       "      <td>I love this necklace. It is great for everyday...</td>\n",
       "      <td>...</td>\n",
       "      <td>3.20</td>\n",
       "      <td>1st and 2nd grade</td>\n",
       "      <td>126.7</td>\n",
       "      <td>126.15</td>\n",
       "      <td>54.00</td>\n",
       "      <td>-0.4</td>\n",
       "      <td>85.666667</td>\n",
       "      <td>94.94</td>\n",
       "      <td>6</td>\n",
       "      <td>4</td>\n",
       "    </tr>\n",
       "    <tr>\n",
       "      <th>4</th>\n",
       "      <td>B000FTPOMK</td>\n",
       "      <td>14k Yellow Gold Butterfly Pendant, 16\"</td>\n",
       "      <td>unknown</td>\n",
       "      <td>A2H69HCLAE6GME</td>\n",
       "      <td>Julia</td>\n",
       "      <td>0/0</td>\n",
       "      <td>5.0</td>\n",
       "      <td>2007-05-16</td>\n",
       "      <td>Absolutely satisfied with it</td>\n",
       "      <td>Love this butterfly pendant. Right size, high ...</td>\n",
       "      <td>...</td>\n",
       "      <td>6.56</td>\n",
       "      <td>6th and 7th grade</td>\n",
       "      <td>108.0</td>\n",
       "      <td>104.72</td>\n",
       "      <td>48.89</td>\n",
       "      <td>1.6</td>\n",
       "      <td>76.692308</td>\n",
       "      <td>77.60</td>\n",
       "      <td>5</td>\n",
       "      <td>2</td>\n",
       "    </tr>\n",
       "    <tr>\n",
       "      <th>5</th>\n",
       "      <td>B000PAMAPI</td>\n",
       "      <td>Sterling Silver Scroll Design Garnet Ring by S...</td>\n",
       "      <td>unknown</td>\n",
       "      <td>A1U36NQMIRUHST</td>\n",
       "      <td>C. Tremari \"cactuspetelady\"</td>\n",
       "      <td>3/3</td>\n",
       "      <td>5.0</td>\n",
       "      <td>2008-05-23</td>\n",
       "      <td>Beautiful ring</td>\n",
       "      <td>I bought this as a graduation gift for my daug...</td>\n",
       "      <td>...</td>\n",
       "      <td>6.95</td>\n",
       "      <td>4th and 5th grade</td>\n",
       "      <td>116.5</td>\n",
       "      <td>111.37</td>\n",
       "      <td>52.02</td>\n",
       "      <td>1.5</td>\n",
       "      <td>72.082707</td>\n",
       "      <td>84.52</td>\n",
       "      <td>5</td>\n",
       "      <td>4</td>\n",
       "    </tr>\n",
       "    <tr>\n",
       "      <th>6</th>\n",
       "      <td>B000PEM42S</td>\n",
       "      <td>Sterling Silver Oval Shaped Locket</td>\n",
       "      <td>unknown</td>\n",
       "      <td>A2C4IVOBTG9W81</td>\n",
       "      <td>Not my name</td>\n",
       "      <td>1/1</td>\n",
       "      <td>3.0</td>\n",
       "      <td>2009-02-09</td>\n",
       "      <td>Just ok...</td>\n",
       "      <td>The locket has a very nice appearance and ther...</td>\n",
       "      <td>...</td>\n",
       "      <td>11.17</td>\n",
       "      <td>8th and 9th grade</td>\n",
       "      <td>106.1</td>\n",
       "      <td>102.69</td>\n",
       "      <td>48.72</td>\n",
       "      <td>2.1</td>\n",
       "      <td>61.921348</td>\n",
       "      <td>77.68</td>\n",
       "      <td>2</td>\n",
       "      <td>0</td>\n",
       "    </tr>\n",
       "    <tr>\n",
       "      <th>7</th>\n",
       "      <td>B000KN6ZOM</td>\n",
       "      <td>Amazon.com</td>\n",
       "      <td>unknown</td>\n",
       "      <td>A1KH38J5M2WCTX</td>\n",
       "      <td>greenchic</td>\n",
       "      <td>0/0</td>\n",
       "      <td>1.0</td>\n",
       "      <td>2008-01-11</td>\n",
       "      <td>Ordered 2; Both Chains Were Tarnished and Pend...</td>\n",
       "      <td>I have generally had very good experience orde...</td>\n",
       "      <td>...</td>\n",
       "      <td>11.61</td>\n",
       "      <td>10th and 11th grade</td>\n",
       "      <td>98.8</td>\n",
       "      <td>95.13</td>\n",
       "      <td>41.61</td>\n",
       "      <td>2.8</td>\n",
       "      <td>55.226415</td>\n",
       "      <td>54.65</td>\n",
       "      <td>1</td>\n",
       "      <td>4</td>\n",
       "    </tr>\n",
       "    <tr>\n",
       "      <th>8</th>\n",
       "      <td>B000PCZ6UC</td>\n",
       "      <td>14K Yellow Gold Ruby and Diamond Bracelet</td>\n",
       "      <td>unknown</td>\n",
       "      <td>AABOLDP3KO54N</td>\n",
       "      <td>Mac Fan</td>\n",
       "      <td>0/0</td>\n",
       "      <td>5.0</td>\n",
       "      <td>2009-01-06</td>\n",
       "      <td>Good Value</td>\n",
       "      <td>A beautiful, delicate little bracelet. I feel ...</td>\n",
       "      <td>...</td>\n",
       "      <td>6.10</td>\n",
       "      <td>5th and 6th grade</td>\n",
       "      <td>112.1</td>\n",
       "      <td>107.34</td>\n",
       "      <td>47.18</td>\n",
       "      <td>1.6</td>\n",
       "      <td>66.142857</td>\n",
       "      <td>72.68</td>\n",
       "      <td>1</td>\n",
       "      <td>1</td>\n",
       "    </tr>\n",
       "    <tr>\n",
       "      <th>9</th>\n",
       "      <td>B000PAMAQM</td>\n",
       "      <td>Sterling Silver Malachite Scroll Design Ring b...</td>\n",
       "      <td>unknown</td>\n",
       "      <td>A31178QVC2BZC6</td>\n",
       "      <td>Hibiscus</td>\n",
       "      <td>3/3</td>\n",
       "      <td>5.0</td>\n",
       "      <td>2007-08-10</td>\n",
       "      <td>nice quality</td>\n",
       "      <td>I think it's a lovely ring. The silver part of...</td>\n",
       "      <td>...</td>\n",
       "      <td>4.92</td>\n",
       "      <td>2nd and 3rd grade</td>\n",
       "      <td>128.3</td>\n",
       "      <td>123.78</td>\n",
       "      <td>55.23</td>\n",
       "      <td>0.5</td>\n",
       "      <td>75.756757</td>\n",
       "      <td>96.78</td>\n",
       "      <td>8</td>\n",
       "      <td>4</td>\n",
       "    </tr>\n",
       "  </tbody>\n",
       "</table>\n",
       "<p>10 rows × 34 columns</p>\n",
       "</div>"
      ],
      "text/plain": [
       "    productId                                              title    price  \\\n",
       "0  B000FTPOMK             14k Yellow Gold Butterfly Pendant, 16\"  unknown   \n",
       "1  B000FTPOMK             14k Yellow Gold Butterfly Pendant, 16\"  unknown   \n",
       "2  B000FTPOMK             14k Yellow Gold Butterfly Pendant, 16\"  unknown   \n",
       "3  B000FTPOMK             14k Yellow Gold Butterfly Pendant, 16\"  unknown   \n",
       "4  B000FTPOMK             14k Yellow Gold Butterfly Pendant, 16\"  unknown   \n",
       "5  B000PAMAPI  Sterling Silver Scroll Design Garnet Ring by S...  unknown   \n",
       "6  B000PEM42S                 Sterling Silver Oval Shaped Locket  unknown   \n",
       "7  B000KN6ZOM                                         Amazon.com  unknown   \n",
       "8  B000PCZ6UC          14K Yellow Gold Ruby and Diamond Bracelet  unknown   \n",
       "9  B000PAMAQM  Sterling Silver Malachite Scroll Design Ring b...  unknown   \n",
       "\n",
       "           userId                  profileName helpfulness  score       time  \\\n",
       "0  A3T4KKUM1JATUX   Disappointed Sony customer         1/1    4.0 2007-05-03   \n",
       "1  A33LVMKCG9IG15     A. Thorpe \"Amazon lover\"         1/1    4.0 2007-04-08   \n",
       "2  A1PNSOEZQ4E9UT        rabbit \"amazon rocks\"         0/0    5.0 2007-07-10   \n",
       "3  A3F12GSAOU0WRT          Jennifer S. Barbier         0/0    5.0 2007-06-08   \n",
       "4  A2H69HCLAE6GME                        Julia         0/0    5.0 2007-05-16   \n",
       "5  A1U36NQMIRUHST  C. Tremari \"cactuspetelady\"         3/3    5.0 2008-05-23   \n",
       "6  A2C4IVOBTG9W81                  Not my name         1/1    3.0 2009-02-09   \n",
       "7  A1KH38J5M2WCTX                    greenchic         0/0    1.0 2008-01-11   \n",
       "8   AABOLDP3KO54N                      Mac Fan         0/0    5.0 2009-01-06   \n",
       "9  A31178QVC2BZC6                     Hibiscus         3/3    5.0 2007-08-10   \n",
       "\n",
       "                                             summary  \\\n",
       "0                                    pretty necklace   \n",
       "1                                    pretty necklace   \n",
       "2                                   Nice and weighty   \n",
       "3                  Great necklace for kids or adults   \n",
       "4                       Absolutely satisfied with it   \n",
       "5                                     Beautiful ring   \n",
       "6                                         Just ok...   \n",
       "7  Ordered 2; Both Chains Were Tarnished and Pend...   \n",
       "8                                         Good Value   \n",
       "9                                       nice quality   \n",
       "\n",
       "                                                text  ...  gunning_fog  \\\n",
       "0  It is a nice made necklace, and the butterfly ...  ...         3.00   \n",
       "1  I bought this necklace on a whim; I love butte...  ...         8.51   \n",
       "2  Bought via gold box ,it is much better than I ...  ...         6.00   \n",
       "3  I love this necklace. It is great for everyday...  ...         3.20   \n",
       "4  Love this butterfly pendant. Right size, high ...  ...         6.56   \n",
       "5  I bought this as a graduation gift for my daug...  ...         6.95   \n",
       "6  The locket has a very nice appearance and ther...  ...        11.17   \n",
       "7  I have generally had very good experience orde...  ...        11.61   \n",
       "8  A beautiful, delicate little bracelet. I feel ...  ...         6.10   \n",
       "9  I think it's a lovely ring. The silver part of...  ...         4.92   \n",
       "\n",
       "         text_standard fernandez_huerta  szigriszt_pazos  gutierrez_polini  \\\n",
       "0    3rd and 4th grade            115.2           112.12             51.19   \n",
       "1    5th and 6th grade            114.3           109.92             50.71   \n",
       "2    5th and 6th grade            119.6           117.08             50.50   \n",
       "3    1st and 2nd grade            126.7           126.15             54.00   \n",
       "4    6th and 7th grade            108.0           104.72             48.89   \n",
       "5    4th and 5th grade            116.5           111.37             52.02   \n",
       "6    8th and 9th grade            106.1           102.69             48.72   \n",
       "7  10th and 11th grade             98.8            95.13             41.61   \n",
       "8    5th and 6th grade            112.1           107.34             47.18   \n",
       "9    2nd and 3rd grade            128.3           123.78             55.23   \n",
       "\n",
       "   crawford  gulpease_index  osman  time_month  time_weekday  \n",
       "0       0.7       84.333333  86.78           5             3  \n",
       "1       1.7       68.069767  82.21           4             6  \n",
       "2       1.1       66.333333  85.62           7             1  \n",
       "3      -0.4       85.666667  94.94           6             4  \n",
       "4       1.6       76.692308  77.60           5             2  \n",
       "5       1.5       72.082707  84.52           5             4  \n",
       "6       2.1       61.921348  77.68           2             0  \n",
       "7       2.8       55.226415  54.65           1             4  \n",
       "8       1.6       66.142857  72.68           1             1  \n",
       "9       0.5       75.756757  96.78           8             4  \n",
       "\n",
       "[10 rows x 34 columns]"
      ]
     },
     "execution_count": 10,
     "metadata": {},
     "output_type": "execute_result"
    }
   ],
   "source": [
    "reviews_df.head(10)"
   ]
  },
  {
   "cell_type": "markdown",
   "id": "a00b75d6",
   "metadata": {},
   "source": [
    "# Basic analysis"
   ]
  },
  {
   "cell_type": "code",
   "execution_count": 11,
   "id": "ee670095",
   "metadata": {
    "ExecuteTime": {
     "end_time": "2022-01-02T19:38:52.051513Z",
     "start_time": "2022-01-02T19:38:51.868518Z"
    }
   },
   "outputs": [
    {
     "data": {
      "text/html": [
       "<div>\n",
       "<style scoped>\n",
       "    .dataframe tbody tr th:only-of-type {\n",
       "        vertical-align: middle;\n",
       "    }\n",
       "\n",
       "    .dataframe tbody tr th {\n",
       "        vertical-align: top;\n",
       "    }\n",
       "\n",
       "    .dataframe thead th {\n",
       "        text-align: right;\n",
       "    }\n",
       "</style>\n",
       "<table border=\"1\" class=\"dataframe\">\n",
       "  <thead>\n",
       "    <tr style=\"text-align: right;\">\n",
       "      <th></th>\n",
       "      <th>score</th>\n",
       "      <th>helpfulness_num</th>\n",
       "      <th>helpfulness_den</th>\n",
       "      <th>sign_number</th>\n",
       "      <th>word_number</th>\n",
       "      <th>unique_word_number</th>\n",
       "      <th>flesch_reading_ease</th>\n",
       "      <th>flesch_kincaid_grade</th>\n",
       "      <th>smog_index</th>\n",
       "      <th>coleman_liau_index</th>\n",
       "      <th>...</th>\n",
       "      <th>linsear_write_formula</th>\n",
       "      <th>gunning_fog</th>\n",
       "      <th>fernandez_huerta</th>\n",
       "      <th>szigriszt_pazos</th>\n",
       "      <th>gutierrez_polini</th>\n",
       "      <th>crawford</th>\n",
       "      <th>gulpease_index</th>\n",
       "      <th>osman</th>\n",
       "      <th>time_month</th>\n",
       "      <th>time_weekday</th>\n",
       "    </tr>\n",
       "  </thead>\n",
       "  <tbody>\n",
       "    <tr>\n",
       "      <th>count</th>\n",
       "      <td>58621.000000</td>\n",
       "      <td>58621.000000</td>\n",
       "      <td>58621.000000</td>\n",
       "      <td>58621.000000</td>\n",
       "      <td>58621.000000</td>\n",
       "      <td>58621.000000</td>\n",
       "      <td>58621.000000</td>\n",
       "      <td>58621.000000</td>\n",
       "      <td>58621.000000</td>\n",
       "      <td>58621.000000</td>\n",
       "      <td>...</td>\n",
       "      <td>58621.00000</td>\n",
       "      <td>58621.000000</td>\n",
       "      <td>58621.000000</td>\n",
       "      <td>58621.000000</td>\n",
       "      <td>58621.000000</td>\n",
       "      <td>58621.000000</td>\n",
       "      <td>58621.000000</td>\n",
       "      <td>58621.000000</td>\n",
       "      <td>58621.000000</td>\n",
       "      <td>58621.000000</td>\n",
       "    </tr>\n",
       "    <tr>\n",
       "      <th>mean</th>\n",
       "      <td>4.197796</td>\n",
       "      <td>1.499667</td>\n",
       "      <td>1.761161</td>\n",
       "      <td>270.478054</td>\n",
       "      <td>51.541529</td>\n",
       "      <td>40.265894</td>\n",
       "      <td>79.382928</td>\n",
       "      <td>6.287970</td>\n",
       "      <td>5.093376</td>\n",
       "      <td>6.084322</td>\n",
       "      <td>...</td>\n",
       "      <td>8.57166</td>\n",
       "      <td>8.569933</td>\n",
       "      <td>111.507818</td>\n",
       "      <td>108.922772</td>\n",
       "      <td>48.922430</td>\n",
       "      <td>1.378948</td>\n",
       "      <td>69.307985</td>\n",
       "      <td>78.471089</td>\n",
       "      <td>6.105457</td>\n",
       "      <td>2.810802</td>\n",
       "    </tr>\n",
       "    <tr>\n",
       "      <th>std</th>\n",
       "      <td>1.241825</td>\n",
       "      <td>4.176168</td>\n",
       "      <td>4.669166</td>\n",
       "      <td>223.939763</td>\n",
       "      <td>42.541051</td>\n",
       "      <td>25.589680</td>\n",
       "      <td>15.533905</td>\n",
       "      <td>4.510763</td>\n",
       "      <td>4.308894</td>\n",
       "      <td>2.674303</td>\n",
       "      <td>...</td>\n",
       "      <td>6.31145</td>\n",
       "      <td>4.638919</td>\n",
       "      <td>13.485740</td>\n",
       "      <td>13.415512</td>\n",
       "      <td>5.547165</td>\n",
       "      <td>1.127627</td>\n",
       "      <td>14.253497</td>\n",
       "      <td>16.215347</td>\n",
       "      <td>3.890987</td>\n",
       "      <td>1.953086</td>\n",
       "    </tr>\n",
       "    <tr>\n",
       "      <th>min</th>\n",
       "      <td>1.000000</td>\n",
       "      <td>0.000000</td>\n",
       "      <td>0.000000</td>\n",
       "      <td>0.000000</td>\n",
       "      <td>1.000000</td>\n",
       "      <td>1.000000</td>\n",
       "      <td>-388.420000</td>\n",
       "      <td>-15.700000</td>\n",
       "      <td>0.000000</td>\n",
       "      <td>-33.810000</td>\n",
       "      <td>...</td>\n",
       "      <td>-1.00000</td>\n",
       "      <td>0.000000</td>\n",
       "      <td>-216.300000</td>\n",
       "      <td>-232.270000</td>\n",
       "      <td>-40.960000</td>\n",
       "      <td>-19.100000</td>\n",
       "      <td>-1.833333</td>\n",
       "      <td>-128.590000</td>\n",
       "      <td>1.000000</td>\n",
       "      <td>0.000000</td>\n",
       "    </tr>\n",
       "    <tr>\n",
       "      <th>25%</th>\n",
       "      <td>4.000000</td>\n",
       "      <td>0.000000</td>\n",
       "      <td>0.000000</td>\n",
       "      <td>135.000000</td>\n",
       "      <td>25.000000</td>\n",
       "      <td>23.000000</td>\n",
       "      <td>72.500000</td>\n",
       "      <td>3.800000</td>\n",
       "      <td>0.000000</td>\n",
       "      <td>4.480000</td>\n",
       "      <td>...</td>\n",
       "      <td>4.90000</td>\n",
       "      <td>6.000000</td>\n",
       "      <td>106.300000</td>\n",
       "      <td>103.710000</td>\n",
       "      <td>46.490000</td>\n",
       "      <td>0.900000</td>\n",
       "      <td>61.954545</td>\n",
       "      <td>71.070000</td>\n",
       "      <td>2.000000</td>\n",
       "      <td>1.000000</td>\n",
       "    </tr>\n",
       "    <tr>\n",
       "      <th>50%</th>\n",
       "      <td>5.000000</td>\n",
       "      <td>0.000000</td>\n",
       "      <td>0.000000</td>\n",
       "      <td>207.000000</td>\n",
       "      <td>40.000000</td>\n",
       "      <td>33.000000</td>\n",
       "      <td>81.220000</td>\n",
       "      <td>5.400000</td>\n",
       "      <td>6.400000</td>\n",
       "      <td>5.980000</td>\n",
       "      <td>...</td>\n",
       "      <td>6.80000</td>\n",
       "      <td>7.830000</td>\n",
       "      <td>113.400000</td>\n",
       "      <td>110.850000</td>\n",
       "      <td>49.610000</td>\n",
       "      <td>1.400000</td>\n",
       "      <td>68.090909</td>\n",
       "      <td>80.210000</td>\n",
       "      <td>6.000000</td>\n",
       "      <td>3.000000</td>\n",
       "    </tr>\n",
       "    <tr>\n",
       "      <th>75%</th>\n",
       "      <td>5.000000</td>\n",
       "      <td>1.000000</td>\n",
       "      <td>2.000000</td>\n",
       "      <td>331.000000</td>\n",
       "      <td>63.000000</td>\n",
       "      <td>50.000000</td>\n",
       "      <td>88.770000</td>\n",
       "      <td>7.600000</td>\n",
       "      <td>8.800000</td>\n",
       "      <td>7.550000</td>\n",
       "      <td>...</td>\n",
       "      <td>10.60000</td>\n",
       "      <td>9.890000</td>\n",
       "      <td>119.600000</td>\n",
       "      <td>116.960000</td>\n",
       "      <td>52.320000</td>\n",
       "      <td>2.000000</td>\n",
       "      <td>75.060606</td>\n",
       "      <td>88.420000</td>\n",
       "      <td>10.000000</td>\n",
       "      <td>4.000000</td>\n",
       "    </tr>\n",
       "    <tr>\n",
       "      <th>max</th>\n",
       "      <td>5.000000</td>\n",
       "      <td>218.000000</td>\n",
       "      <td>229.000000</td>\n",
       "      <td>6178.000000</td>\n",
       "      <td>1089.000000</td>\n",
       "      <td>460.000000</td>\n",
       "      <td>206.840000</td>\n",
       "      <td>88.300000</td>\n",
       "      <td>18.200000</td>\n",
       "      <td>35.800000</td>\n",
       "      <td>...</td>\n",
       "      <td>68.00000</td>\n",
       "      <td>92.390000</td>\n",
       "      <td>206.900000</td>\n",
       "      <td>143.540000</td>\n",
       "      <td>75.600000</td>\n",
       "      <td>24.100000</td>\n",
       "      <td>369.000000</td>\n",
       "      <td>199.780000</td>\n",
       "      <td>12.000000</td>\n",
       "      <td>6.000000</td>\n",
       "    </tr>\n",
       "  </tbody>\n",
       "</table>\n",
       "<p>8 rows × 23 columns</p>\n",
       "</div>"
      ],
      "text/plain": [
       "              score  helpfulness_num  helpfulness_den   sign_number  \\\n",
       "count  58621.000000     58621.000000     58621.000000  58621.000000   \n",
       "mean       4.197796         1.499667         1.761161    270.478054   \n",
       "std        1.241825         4.176168         4.669166    223.939763   \n",
       "min        1.000000         0.000000         0.000000      0.000000   \n",
       "25%        4.000000         0.000000         0.000000    135.000000   \n",
       "50%        5.000000         0.000000         0.000000    207.000000   \n",
       "75%        5.000000         1.000000         2.000000    331.000000   \n",
       "max        5.000000       218.000000       229.000000   6178.000000   \n",
       "\n",
       "        word_number  unique_word_number  flesch_reading_ease  \\\n",
       "count  58621.000000        58621.000000         58621.000000   \n",
       "mean      51.541529           40.265894            79.382928   \n",
       "std       42.541051           25.589680            15.533905   \n",
       "min        1.000000            1.000000          -388.420000   \n",
       "25%       25.000000           23.000000            72.500000   \n",
       "50%       40.000000           33.000000            81.220000   \n",
       "75%       63.000000           50.000000            88.770000   \n",
       "max     1089.000000          460.000000           206.840000   \n",
       "\n",
       "       flesch_kincaid_grade    smog_index  coleman_liau_index  ...  \\\n",
       "count          58621.000000  58621.000000        58621.000000  ...   \n",
       "mean               6.287970      5.093376            6.084322  ...   \n",
       "std                4.510763      4.308894            2.674303  ...   \n",
       "min              -15.700000      0.000000          -33.810000  ...   \n",
       "25%                3.800000      0.000000            4.480000  ...   \n",
       "50%                5.400000      6.400000            5.980000  ...   \n",
       "75%                7.600000      8.800000            7.550000  ...   \n",
       "max               88.300000     18.200000           35.800000  ...   \n",
       "\n",
       "       linsear_write_formula   gunning_fog  fernandez_huerta  szigriszt_pazos  \\\n",
       "count            58621.00000  58621.000000      58621.000000     58621.000000   \n",
       "mean                 8.57166      8.569933        111.507818       108.922772   \n",
       "std                  6.31145      4.638919         13.485740        13.415512   \n",
       "min                 -1.00000      0.000000       -216.300000      -232.270000   \n",
       "25%                  4.90000      6.000000        106.300000       103.710000   \n",
       "50%                  6.80000      7.830000        113.400000       110.850000   \n",
       "75%                 10.60000      9.890000        119.600000       116.960000   \n",
       "max                 68.00000     92.390000        206.900000       143.540000   \n",
       "\n",
       "       gutierrez_polini      crawford  gulpease_index         osman  \\\n",
       "count      58621.000000  58621.000000    58621.000000  58621.000000   \n",
       "mean          48.922430      1.378948       69.307985     78.471089   \n",
       "std            5.547165      1.127627       14.253497     16.215347   \n",
       "min          -40.960000    -19.100000       -1.833333   -128.590000   \n",
       "25%           46.490000      0.900000       61.954545     71.070000   \n",
       "50%           49.610000      1.400000       68.090909     80.210000   \n",
       "75%           52.320000      2.000000       75.060606     88.420000   \n",
       "max           75.600000     24.100000      369.000000    199.780000   \n",
       "\n",
       "         time_month  time_weekday  \n",
       "count  58621.000000  58621.000000  \n",
       "mean       6.105457      2.810802  \n",
       "std        3.890987      1.953086  \n",
       "min        1.000000      0.000000  \n",
       "25%        2.000000      1.000000  \n",
       "50%        6.000000      3.000000  \n",
       "75%       10.000000      4.000000  \n",
       "max       12.000000      6.000000  \n",
       "\n",
       "[8 rows x 23 columns]"
      ]
     },
     "execution_count": 11,
     "metadata": {},
     "output_type": "execute_result"
    }
   ],
   "source": [
    "reviews_df.describe()"
   ]
  },
  {
   "cell_type": "markdown",
   "id": "ea3ce75f",
   "metadata": {},
   "source": [
    "1. Unbalanced scores (mostly 5)\n",
    "\n",
    "2. Few helpfulness information\n",
    "\n",
    "3. Outliers"
   ]
  },
  {
   "cell_type": "markdown",
   "id": "86b92221",
   "metadata": {},
   "source": [
    "# Try to build any model\n",
    "\n",
    "Train-test split\n",
    "\n",
    "Predict the score using the text statistics"
   ]
  },
  {
   "cell_type": "code",
   "execution_count": 146,
   "id": "9c87bcb9",
   "metadata": {
    "ExecuteTime": {
     "end_time": "2022-01-02T20:14:26.336364Z",
     "start_time": "2022-01-02T20:14:26.296628Z"
    }
   },
   "outputs": [],
   "source": [
    "predictors = [#'sign_number', \n",
    "    'word_number',\n",
    "       'unique_word_number', # 'flesch_reading_ease', \n",
    "              #'flesch_kincaid_grade',\n",
    "       'smog_index', 'coleman_liau_index', #'automated_readability_index',\n",
    "       'dale_chall_readability_score', #'difficult_words',\n",
    "       'linsear_write_formula', 'gunning_fog', #'text_standard',\n",
    "       'fernandez_huerta', 'szigriszt_pazos', 'gutierrez_polini', #'crawford',\n",
    "       'gulpease_index', #'osman', 'time_month', 'time_weekday'\n",
    "             ]\n",
    "\n",
    "\n",
    "y = \"score\"\n",
    "\n",
    "X_train, X_test, y_train, y_test = train_test_split(reviews_df[predictors], reviews_df[y], \n",
    "                                                    test_size=0.1, stratify=reviews_df[y])"
   ]
  },
  {
   "cell_type": "code",
   "execution_count": 179,
   "id": "22108555",
   "metadata": {
    "ExecuteTime": {
     "end_time": "2022-01-02T20:25:40.206701Z",
     "start_time": "2022-01-02T20:25:38.879945Z"
    }
   },
   "outputs": [
    {
     "name": "stdout",
     "output_type": "stream",
     "text": [
      "[21:25:38] WARNING: ../src/learner.cc:541: \n",
      "Parameters: { enable_categorical, weight } might not be used.\n",
      "\n",
      "  This may not be accurate due to some parameters are only used in language bindings but\n",
      "  passed down to XGBoost core.  Or some parameters are not used but slip through this\n",
      "  verification. Please open an issue if you find above cases.\n",
      "\n",
      "\n"
     ]
    },
    {
     "data": {
      "text/plain": [
       "XGBRegressor(base_score=0.5, booster='gbtree', colsample_bylevel=1,\n",
       "             colsample_bynode=1, colsample_bytree=1, enable_categorical=True,\n",
       "             gamma=0, gpu_id=-1, importance_type='gain',\n",
       "             interaction_constraints='', learning_rate=0.3, max_delta_step=0,\n",
       "             max_depth=6, min_child_weight=1, missing=nan,\n",
       "             monotone_constraints='()', n_estimators=100, n_jobs=8,\n",
       "             num_parallel_tree=1, random_state=0, reg_alpha=0, reg_lambda=1,\n",
       "             scale_pos_weight=1, subsample=1, tree_method='exact',\n",
       "             validate_parameters=1, verbosity=None,\n",
       "             weight=[0.001, 1, 1, 0.001, 0.001, 1, 0.001, 1, 0.001, 0.001,\n",
       "                     0.001, 0.001, 1, 1, 0.001, 1, 1, 1, 0.001, 1, 0.001, 1, 1,\n",
       "                     1, 1, 0.001, 0.001, 1, 1, 1, ...])"
      ]
     },
     "execution_count": 179,
     "metadata": {},
     "output_type": "execute_result"
    }
   ],
   "source": [
    "from xgboost import XGBRegressor\n",
    "\n",
    "model = XGBRegressor(enable_categorical=True, #scale_pos_weight=100, \n",
    "                      weight = [0.001 if x == 5 else 1 for x in y_train],\n",
    "#                       objective = \"multi:softmax\", \n",
    "                      learning_rate=0.3)\n",
    "model.fit(X_train, y_train)# , sample_weight=[0.4 if x == 5 else 0.7 for x in y_train])"
   ]
  },
  {
   "cell_type": "code",
   "execution_count": 180,
   "id": "da6f5608",
   "metadata": {
    "ExecuteTime": {
     "end_time": "2022-01-02T20:25:42.461120Z",
     "start_time": "2022-01-02T20:25:42.368603Z"
    }
   },
   "outputs": [
    {
     "name": "stdout",
     "output_type": "stream",
     "text": [
      "['word_number', 'unique_word_number', 'smog_index', 'coleman_liau_index', 'dale_chall_readability_score', 'linsear_write_formula', 'gunning_fog', 'fernandez_huerta', 'szigriszt_pazos', 'gutierrez_polini', 'gulpease_index']\n"
     ]
    },
    {
     "data": {
      "text/plain": [
       "array([0.06980664, 0.07189302, 0.11672159, 0.07355583, 0.08556743,\n",
       "       0.10787705, 0.09199776, 0.08984181, 0.10347147, 0.09617429,\n",
       "       0.09309315], dtype=float32)"
      ]
     },
     "execution_count": 180,
     "metadata": {},
     "output_type": "execute_result"
    }
   ],
   "source": [
    "print(predictors)\n",
    "\n",
    "model.feature_importances_"
   ]
  },
  {
   "cell_type": "code",
   "execution_count": 181,
   "id": "6509304e",
   "metadata": {
    "ExecuteTime": {
     "end_time": "2022-01-02T20:25:44.222260Z",
     "start_time": "2022-01-02T20:25:44.161638Z"
    }
   },
   "outputs": [],
   "source": [
    "y_pred = model.predict(X_test)\n",
    "y_pred = y_pred.round()\n",
    "# y_test = y_test == 5"
   ]
  },
  {
   "cell_type": "code",
   "execution_count": 182,
   "id": "4bc4c77d",
   "metadata": {
    "ExecuteTime": {
     "end_time": "2022-01-02T20:25:45.797781Z",
     "start_time": "2022-01-02T20:25:45.790131Z"
    }
   },
   "outputs": [
    {
     "name": "stdout",
     "output_type": "stream",
     "text": [
      "0.15452839843083746\n",
      "0.34402183182670987\n",
      "0.2241173460685656\n",
      "0.43186082210472454\n",
      "0.7685485246460856\n",
      "0.38597987378475185\n"
     ]
    }
   ],
   "source": [
    "print(((y_pred == y_test.values) & (y_pred != 5)).mean())\n",
    "\n",
    "print((y_pred == y_test.values).mean())\n",
    "\n",
    "print((y_pred > y_test.values).mean())\n",
    "\n",
    "print((y_pred < y_test.values).mean())\n",
    "\n",
    "print((y_pred != 5).mean())\n",
    "\n",
    "print((y_test != 5).mean())"
   ]
  },
  {
   "cell_type": "code",
   "execution_count": 183,
   "id": "85e8cacc",
   "metadata": {
    "ExecuteTime": {
     "end_time": "2022-01-02T20:25:47.523556Z",
     "start_time": "2022-01-02T20:25:47.498000Z"
    }
   },
   "outputs": [
    {
     "name": "stdout",
     "output_type": "stream",
     "text": [
      "0.15452839843083746\n",
      "0.2241173460685656\n",
      "0.43186082210472454\n",
      "0.7685485246460856\n",
      "0.38597987378475185\n",
      "0.8661095002558418\n"
     ]
    },
    {
     "data": {
      "text/plain": [
       "test  pred\n",
       "5.0   4.0     2404\n",
       "      5.0     1111\n",
       "4.0   4.0      834\n",
       "3.0   4.0      400\n",
       "1.0   4.0      315\n",
       "2.0   4.0      248\n",
       "4.0   5.0      131\n",
       "5.0   3.0       81\n",
       "3.0   3.0       54\n",
       "      5.0       50\n",
       "1.0   3.0       50\n",
       "4.0   3.0       42\n",
       "2.0   3.0       37\n",
       "1.0   5.0       35\n",
       "2.0   5.0       30\n",
       "1.0   2.0       18\n",
       "      1.0       14\n",
       "2.0   2.0        4\n",
       "5.0   2.0        4\n",
       "3.0   2.0        1\n",
       "dtype: int64"
      ]
     },
     "execution_count": 183,
     "metadata": {},
     "output_type": "execute_result"
    }
   ],
   "source": [
    "print(((y_pred == y_test.values) & (y_pred != 5)).mean())\n",
    "\n",
    "print((y_pred > y_test.values).mean())\n",
    "\n",
    "print((y_pred < y_test.values).mean())\n",
    "\n",
    "print((y_pred != 5).mean())\n",
    "\n",
    "print((y_test != 5).mean())\n",
    "\n",
    "print((y_test - y_pred).abs().mean())\n",
    "\n",
    "pd.DataFrame({\"test\": y_test, \"pred\": y_pred}).value_counts()"
   ]
  },
  {
   "cell_type": "markdown",
   "id": "8c9d2df9",
   "metadata": {},
   "source": [
    "Text statistics seem to be useless."
   ]
  },
  {
   "cell_type": "markdown",
   "id": "5743c350",
   "metadata": {},
   "source": [
    "# Data for modeling"
   ]
  },
  {
   "cell_type": "code",
   "execution_count": 169,
   "id": "569a3bc5",
   "metadata": {
    "ExecuteTime": {
     "end_time": "2022-01-02T20:21:01.933186Z",
     "start_time": "2022-01-02T20:21:01.773446Z"
    }
   },
   "outputs": [
    {
     "data": {
      "text/html": [
       "<div>\n",
       "<style scoped>\n",
       "    .dataframe tbody tr th:only-of-type {\n",
       "        vertical-align: middle;\n",
       "    }\n",
       "\n",
       "    .dataframe tbody tr th {\n",
       "        vertical-align: top;\n",
       "    }\n",
       "\n",
       "    .dataframe thead th {\n",
       "        text-align: right;\n",
       "    }\n",
       "</style>\n",
       "<table border=\"1\" class=\"dataframe\">\n",
       "  <thead>\n",
       "    <tr style=\"text-align: right;\">\n",
       "      <th></th>\n",
       "      <th>userId</th>\n",
       "      <th>productId</th>\n",
       "      <th>score</th>\n",
       "    </tr>\n",
       "  </thead>\n",
       "  <tbody>\n",
       "    <tr>\n",
       "      <th>0</th>\n",
       "      <td>A3T4KKUM1JATUX</td>\n",
       "      <td>B000FTPOMK</td>\n",
       "      <td>4.0</td>\n",
       "    </tr>\n",
       "    <tr>\n",
       "      <th>1</th>\n",
       "      <td>A33LVMKCG9IG15</td>\n",
       "      <td>B000FTPOMK</td>\n",
       "      <td>4.0</td>\n",
       "    </tr>\n",
       "    <tr>\n",
       "      <th>2</th>\n",
       "      <td>A1PNSOEZQ4E9UT</td>\n",
       "      <td>B000FTPOMK</td>\n",
       "      <td>5.0</td>\n",
       "    </tr>\n",
       "    <tr>\n",
       "      <th>3</th>\n",
       "      <td>A3F12GSAOU0WRT</td>\n",
       "      <td>B000FTPOMK</td>\n",
       "      <td>5.0</td>\n",
       "    </tr>\n",
       "    <tr>\n",
       "      <th>4</th>\n",
       "      <td>A2H69HCLAE6GME</td>\n",
       "      <td>B000FTPOMK</td>\n",
       "      <td>5.0</td>\n",
       "    </tr>\n",
       "    <tr>\n",
       "      <th>...</th>\n",
       "      <td>...</td>\n",
       "      <td>...</td>\n",
       "      <td>...</td>\n",
       "    </tr>\n",
       "    <tr>\n",
       "      <th>58616</th>\n",
       "      <td>A34KBEZHBM0SX3</td>\n",
       "      <td>B000NGJ3CM</td>\n",
       "      <td>5.0</td>\n",
       "    </tr>\n",
       "    <tr>\n",
       "      <th>58617</th>\n",
       "      <td>A2JHH8XII9XEC8</td>\n",
       "      <td>B000NGJ3CM</td>\n",
       "      <td>3.0</td>\n",
       "    </tr>\n",
       "    <tr>\n",
       "      <th>58618</th>\n",
       "      <td>A30ZWFIQXEIIVO</td>\n",
       "      <td>B000O3KHPQ</td>\n",
       "      <td>5.0</td>\n",
       "    </tr>\n",
       "    <tr>\n",
       "      <th>58619</th>\n",
       "      <td>A1PR64NER7KUP6</td>\n",
       "      <td>B000O3KHPQ</td>\n",
       "      <td>5.0</td>\n",
       "    </tr>\n",
       "    <tr>\n",
       "      <th>58620</th>\n",
       "      <td>A2C9EJ8W29K3C2</td>\n",
       "      <td>B000FIPQUQ</td>\n",
       "      <td>3.0</td>\n",
       "    </tr>\n",
       "  </tbody>\n",
       "</table>\n",
       "<p>58621 rows × 3 columns</p>\n",
       "</div>"
      ],
      "text/plain": [
       "               userId   productId  score\n",
       "0      A3T4KKUM1JATUX  B000FTPOMK    4.0\n",
       "1      A33LVMKCG9IG15  B000FTPOMK    4.0\n",
       "2      A1PNSOEZQ4E9UT  B000FTPOMK    5.0\n",
       "3      A3F12GSAOU0WRT  B000FTPOMK    5.0\n",
       "4      A2H69HCLAE6GME  B000FTPOMK    5.0\n",
       "...               ...         ...    ...\n",
       "58616  A34KBEZHBM0SX3  B000NGJ3CM    5.0\n",
       "58617  A2JHH8XII9XEC8  B000NGJ3CM    3.0\n",
       "58618  A30ZWFIQXEIIVO  B000O3KHPQ    5.0\n",
       "58619  A1PR64NER7KUP6  B000O3KHPQ    5.0\n",
       "58620  A2C9EJ8W29K3C2  B000FIPQUQ    3.0\n",
       "\n",
       "[58621 rows x 3 columns]"
      ]
     },
     "execution_count": 169,
     "metadata": {},
     "output_type": "execute_result"
    }
   ],
   "source": [
    "scores_df = reviews_df[[\"userId\", \"productId\", \"score\"]]\n",
    "scores_df.to_csv(\"scores.csv\")\n",
    "scores_df"
   ]
  }
 ],
 "metadata": {
  "kernelspec": {
   "display_name": "Python 3 (ipykernel)",
   "language": "python",
   "name": "python3"
  },
  "language_info": {
   "codemirror_mode": {
    "name": "ipython",
    "version": 3
   },
   "file_extension": ".py",
   "mimetype": "text/x-python",
   "name": "python",
   "nbconvert_exporter": "python",
   "pygments_lexer": "ipython3",
   "version": "3.8.10"
  },
  "toc": {
   "base_numbering": 1,
   "nav_menu": {},
   "number_sections": true,
   "sideBar": true,
   "skip_h1_title": false,
   "title_cell": "Table of Contents",
   "title_sidebar": "Contents",
   "toc_cell": false,
   "toc_position": {},
   "toc_section_display": true,
   "toc_window_display": false
  },
  "varInspector": {
   "cols": {
    "lenName": 16,
    "lenType": 16,
    "lenVar": 40
   },
   "kernels_config": {
    "python": {
     "delete_cmd_postfix": "",
     "delete_cmd_prefix": "del ",
     "library": "var_list.py",
     "varRefreshCmd": "print(var_dic_list())"
    },
    "r": {
     "delete_cmd_postfix": ") ",
     "delete_cmd_prefix": "rm(",
     "library": "var_list.r",
     "varRefreshCmd": "cat(var_dic_list()) "
    }
   },
   "types_to_exclude": [
    "module",
    "function",
    "builtin_function_or_method",
    "instance",
    "_Feature"
   ],
   "window_display": false
  }
 },
 "nbformat": 4,
 "nbformat_minor": 5
}
