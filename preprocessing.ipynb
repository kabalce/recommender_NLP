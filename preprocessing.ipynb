{
 "cells": [
  {
   "cell_type": "code",
   "execution_count": null,
   "id": "a6ffc111",
   "metadata": {},
   "outputs": [],
   "source": [
    "import pandas as pd\n",
    "import numpy as np\n",
    "import contractions\n",
    "import textstat\n",
    "\n",
    "category = \"Jewelry\""
   ]
  },
  {
   "cell_type": "markdown",
   "id": "8a8f3fba",
   "metadata": {},
   "source": [
    "# Prepare data\n",
    "\n",
    "Link to the data set:\n",
    "\n",
    "http://snap.stanford.edu/data/web-Amazon-links.html?fbclid=IwAR0uAj7gUjbwrIyN2UpPuZZnytV-P-iV8kcpOJtfmgboeLkDOdwkqqb_G58\n",
    "\n",
    "## Read the data"
   ]
  },
  {
   "cell_type": "code",
   "execution_count": null,
   "id": "bffd6130",
   "metadata": {},
   "outputs": [],
   "source": [
    "def load_reviews_to_df(path) -> pd.DataFrame:\n",
    "    raw_data = open(path).readlines()\n",
    "    \n",
    "    reviews_array = []\n",
    "    dictionary = {}\n",
    "\n",
    "    for review in raw_data:\n",
    "        this_line = review.split(\":\")\n",
    "        if len(this_line) > 1:\n",
    "            dictionary[this_line[0]] = this_line[1].strip()\n",
    "        else:\n",
    "            reviews_array.append(dictionary)\n",
    "            dictionary = {}\n",
    "\n",
    "    colNames = ['productId', 'title', 'price', 'userId', \n",
    "                'profileName', 'helpfulness', 'score', \n",
    "                'time', 'summary', 'text']\n",
    "    \n",
    "    reviews = pd.DataFrame(reviews_array)\n",
    "    reviews.columns = colNames\n",
    "    reviews[['score']] = reviews[['score']].astype(float)\n",
    "    reviews['time'] = pd.to_datetime(reviews['time'], unit='s')\n",
    "    \n",
    "    return reviews"
   ]
  },
  {
   "cell_type": "code",
   "execution_count": null,
   "id": "2f855322",
   "metadata": {},
   "outputs": [],
   "source": [
    "path = f'{category}.txt'\n",
    "reviews_df = load_reviews_to_df(path)\n",
    "reviews_df.head()"
   ]
  },
  {
   "cell_type": "markdown",
   "id": "e44b121c",
   "metadata": {},
   "source": [
    "## Clean up the data\n",
    "\n",
    "### Extract numbers for helpfulness"
   ]
  },
  {
   "cell_type": "code",
   "execution_count": null,
   "id": "f8133145",
   "metadata": {},
   "outputs": [],
   "source": [
    "reviews_df[\"helpfulness_num\"] = reviews_df[\"helpfulness\"].apply(lambda x: int(x.split(\"/\")[0]))\n",
    "reviews_df[\"helpfulness_den\"] = reviews_df[\"helpfulness\"].apply(lambda x: int(x.split(\"/\")[1]))"
   ]
  },
  {
   "cell_type": "markdown",
   "id": "d682eceb",
   "metadata": {},
   "source": [
    "### Clean up the comments\n",
    "\n",
    "Used tutorial:\n",
    "\n",
    "https://towardsdatascience.com/text-cleaning-methods-for-natural-language-processing-f2fc1796e8c7\n",
    "\n",
    "**TBD: do the same transformations with the summary!**\n",
    "\n",
    "1. Read the slang\n",
    "\n",
    "Example:"
   ]
  },
  {
   "cell_type": "code",
   "execution_count": null,
   "id": "e34808e1",
   "metadata": {},
   "outputs": [],
   "source": [
    "reviews_df[\"text\"][9]"
   ]
  },
  {
   "cell_type": "code",
   "execution_count": null,
   "id": "4ab5d4fd",
   "metadata": {},
   "outputs": [],
   "source": [
    "reviews_df[\"text\"][:20].apply(contractions.fix, slang=True)[9]"
   ]
  },
  {
   "cell_type": "code",
   "execution_count": null,
   "id": "3a00c72e",
   "metadata": {},
   "outputs": [],
   "source": [
    "reviews_df[\"text_fixed\"] = reviews_df[\"text\"].apply(contractions.fix, slang=True)"
   ]
  },
  {
   "cell_type": "markdown",
   "id": "260c1ed4",
   "metadata": {},
   "source": [
    "2. Normalization\n",
    "    - remove punctuation\n",
    "    - lower all letters\n",
    "    - remove numbers\n",
    "    \n",
    "3. Remove stop words (noise)\n",
    "\n",
    "4. Stemming and/or Lemmatisation\n",
    "\n",
    "Ciekawostka (? do przeczytania) https://www.researchgate.net/publication/220959627_Training_Data_Cleaning_for_Text_Classification"
   ]
  },
  {
   "cell_type": "markdown",
   "id": "5dfd9f59",
   "metadata": {},
   "source": [
    "##  Extract text statistics"
   ]
  },
  {
   "cell_type": "code",
   "execution_count": null,
   "id": "64e85f97",
   "metadata": {},
   "outputs": [],
   "source": [
    "reviews_df[\"sign_number\"] = reviews_df[\"text_fixed\"].apply(len)\n",
    "reviews_df[\"word_number\"] = reviews_df[\"text_fixed\"].apply(lambda x: len(x.split(\" \")))\n",
    "reviews_df[\"unique_word_number\"] = reviews_df[\"text_fixed\"].apply(lambda x: len(set(x.split(\" \"))))\n",
    "reviews_df[\"flesch_reading_ease\"] = reviews_df[\"text_fixed\"].apply(textstat.flesch_reading_ease)\n",
    "reviews_df[\"flesch_kincaid_grade\"] = reviews_df[\"text_fixed\"].apply(textstat.flesch_kincaid_grade)\n",
    "reviews_df[\"smog_index\"] = reviews_df[\"text_fixed\"].apply(textstat.smog_index)\n",
    "reviews_df[\"coleman_liau_index\"] = reviews_df[\"text_fixed\"].apply(textstat.coleman_liau_index)\n",
    "reviews_df[\"automated_readability_index\"] = reviews_df[\"text_fixed\"].apply(textstat.automated_readability_index)\n",
    "reviews_df[\"dale_chall_readability_score\"] = reviews_df[\"text_fixed\"].apply(textstat.dale_chall_readability_score)\n",
    "reviews_df[\"difficult_words\"] = reviews_df[\"text_fixed\"].apply(textstat.difficult_words)\n",
    "reviews_df[\"linsear_write_formula\"] = reviews_df[\"text_fixed\"].apply(textstat.linsear_write_formula)\n",
    "reviews_df[\"gunning_fog\"] = reviews_df[\"text_fixed\"].apply(textstat.gunning_fog)\n",
    "reviews_df[\"text_standard\"] = reviews_df[\"text_fixed\"].apply(textstat.text_standard)\n",
    "reviews_df[\"fernandez_huerta\"] = reviews_df[\"text_fixed\"].apply(textstat.fernandez_huerta)\n",
    "reviews_df[\"szigriszt_pazos\"] = reviews_df[\"text_fixed\"].apply(textstat.szigriszt_pazos)\n",
    "reviews_df[\"gutierrez_polini\"] = reviews_df[\"text_fixed\"].apply(textstat.gutierrez_polini)\n",
    "reviews_df[\"crawford\"] = reviews_df[\"text_fixed\"].apply(textstat.crawford)\n",
    "reviews_df[\"gulpease_index\"] = reviews_df[\"text_fixed\"].apply(textstat.gulpease_index)\n",
    "reviews_df[\"osman\"] = reviews_df[\"text_fixed\"].apply(textstat.osman)"
   ]
  },
  {
   "cell_type": "markdown",
   "id": "ef422f89",
   "metadata": {},
   "source": [
    "### Extract time features"
   ]
  },
  {
   "cell_type": "code",
   "execution_count": null,
   "id": "6ad45e0a",
   "metadata": {},
   "outputs": [],
   "source": [
    "reviews_df[\"time_month\"] = pd.DatetimeIndex(reviews_df[\"time\"]).month\n",
    "reviews_df[\"time_weekday\"] = pd.DatetimeIndex(reviews_df[\"time\"]).weekday"
   ]
  },
  {
   "cell_type": "code",
   "execution_count": null,
   "id": "d4fb2cf0",
   "metadata": {},
   "outputs": [],
   "source": [
    "reviews_df.head(10)"
   ]
  },
  {
   "cell_type": "markdown",
   "id": "a00b75d6",
   "metadata": {},
   "source": [
    "# Basic analysis"
   ]
  },
  {
   "cell_type": "code",
   "execution_count": null,
   "id": "ee670095",
   "metadata": {},
   "outputs": [],
   "source": [
    "reviews_df.describe()"
   ]
  },
  {
   "cell_type": "markdown",
   "id": "ea3ce75f",
   "metadata": {},
   "source": [
    "1. Unbalanced scores (mostly 5)\n",
    "\n",
    "2. Few helpfulness information\n",
    "\n",
    "3. Outliers"
   ]
  },
  {
   "cell_type": "code",
   "execution_count": null,
   "id": "6ee844c6",
   "metadata": {},
   "outputs": [],
   "source": []
  }
 ],
 "metadata": {
  "kernelspec": {
   "display_name": "Python 3 (ipykernel)",
   "language": "python",
   "name": "python3"
  },
  "language_info": {
   "codemirror_mode": {
    "name": "ipython",
    "version": 3
   },
   "file_extension": ".py",
   "mimetype": "text/x-python",
   "name": "python",
   "nbconvert_exporter": "python",
   "pygments_lexer": "ipython3"
  },
  "toc": {
   "base_numbering": 1,
   "nav_menu": {},
   "number_sections": true,
   "sideBar": true,
   "skip_h1_title": false,
   "title_cell": "Table of Contents",
   "title_sidebar": "Contents",
   "toc_cell": false,
   "toc_position": {},
   "toc_section_display": true,
   "toc_window_display": false
  },
  "varInspector": {
   "cols": {
    "lenName": 16,
    "lenType": 16,
    "lenVar": 40
   },
   "kernels_config": {
    "python": {
     "delete_cmd_postfix": "",
     "delete_cmd_prefix": "del ",
     "library": "var_list.py",
     "varRefreshCmd": "print(var_dic_list())"
    },
    "r": {
     "delete_cmd_postfix": ") ",
     "delete_cmd_prefix": "rm(",
     "library": "var_list.r",
     "varRefreshCmd": "cat(var_dic_list()) "
    }
   },
   "types_to_exclude": [
    "module",
    "function",
    "builtin_function_or_method",
    "instance",
    "_Feature"
   ],
   "window_display": false
  }
 },
 "nbformat": 4,
 "nbformat_minor": 5
}
